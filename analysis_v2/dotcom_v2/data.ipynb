{
 "cells": [
  {
   "cell_type": "code",
   "execution_count": 98,
   "metadata": {},
   "outputs": [],
   "source": [
    "%run search_functions.ipynb\n",
    "import pandas as pd\n",
    "import yfinance as yf\n",
    "import pysentiment2.renault as ren"
   ]
  },
  {
   "cell_type": "code",
   "execution_count": 95,
   "metadata": {},
   "outputs": [],
   "source": [
    "news_PATH = \"C://Users//jackl//OneDrive//Documents//Harvard//Research//Greenwood//dot_com//master.xlsx\"\n",
    "news_df = pd.read_excel(news_PATH)"
   ]
  },
  {
   "cell_type": "code",
   "execution_count": 153,
   "metadata": {},
   "outputs": [],
   "source": [
    "ndq_price = yf.Ticker(\"^NDX\").history(period=\"max\").reset_index()\n",
    "ndq_price['close_return'] = get_pct_change(ndq_price, 'Close')\n",
    "ndq_price['Date'] = pd.to_datetime(ndq_price['Date'])\n",
    "start_date = news_df['date'].min()\n",
    "end_date = news_df['date'].max()\n",
    "ndq_price = ndq_price.set_index('Date')\n",
    "idx = pd.date_range(start_date, end_date)\n",
    "ndq_price.index = pd.DatetimeIndex(ndq_price.index)\n",
    "ndq_price = ndq_price.reindex(idx, fill_value=None)\n",
    "ndq_price = ndq_price.fillna(method='ffill').reset_index()\n",
    "ndq_price.rename(columns={'index':'Date'}, inplace=True)\n",
    "\n",
    "# idx = pd.date_range(ndq_price.index.min(), ndq_price.index.max())\n",
    "# ndq_price = ndq_price.reindex(idx, fill_value='NaN')\n",
    "# ndq_price = ndq_price.reset_index()\n",
    "# ndq_price.rename(columns={'index':'Date'}, inplace=True)\n",
    "# ndq_price = ndq_price[['Date', 'Close', 'close_return']]\n",
    "# ndq_price['Date'] = pd.to_datetime(ndq_price['Date'])\n",
    "# ndq_price = ndq_price[(ndq_price['Date'] > start_date) & (ndq_price['Date'] < end_date)]"
   ]
  },
  {
   "cell_type": "code",
   "execution_count": 136,
   "metadata": {},
   "outputs": [
    {
     "name": "stderr",
     "output_type": "stream",
     "text": [
      "C:\\Users\\jackl\\Anaconda3\\lib\\site-packages\\ipykernel_launcher.py:67: SettingWithCopyWarning: \n",
      "A value is trying to be set on a copy of a slice from a DataFrame.\n",
      "Try using .loc[row_indexer,col_indexer] = value instead\n",
      "\n",
      "See the caveats in the documentation: http://pandas.pydata.org/pandas-docs/stable/user_guide/indexing.html#returning-a-view-versus-a-copy\n"
     ]
    }
   ],
   "source": [
    "fdata = news_df[['Abstract', 'date']]\n",
    "fdata.columns = ['full_text', 'date']\n",
    "fdata = get_flags(fdata)"
   ]
  },
  {
   "cell_type": "code",
   "execution_count": 161,
   "metadata": {},
   "outputs": [
    {
     "name": "stderr",
     "output_type": "stream",
     "text": [
      "C:\\Users\\jackl\\Anaconda3\\lib\\site-packages\\ipykernel_launcher.py:7: SettingWithCopyWarning: \n",
      "A value is trying to be set on a copy of a slice from a DataFrame.\n",
      "Try using .loc[row_indexer,col_indexer] = value instead\n",
      "\n",
      "See the caveats in the documentation: http://pandas.pydata.org/pandas-docs/stable/user_guide/indexing.html#returning-a-view-versus-a-copy\n",
      "  import sys\n"
     ]
    }
   ],
   "source": [
    "#sentiment analysis\n",
    "RN = ren.RN()\n",
    "sent_score_list = []\n",
    "for i in range(len(fdata)): \n",
    "    tokens = RN.tokenize(fdata.iloc[i]['full_text'])\n",
    "    sent_score_list.append(RN.get_score(tokens)['Polarity'])\n",
    "fdata['sent_score'] = sent_score_list"
   ]
  },
  {
   "cell_type": "code",
   "execution_count": 163,
   "metadata": {},
   "outputs": [],
   "source": [
    "reg_data = get_reg_data(fdata, ndq_price, 'W')"
   ]
  },
  {
   "cell_type": "code",
   "execution_count": 165,
   "metadata": {},
   "outputs": [],
   "source": [
    "reg_data.to_stata(\"C://Users//jackl//OneDrive//Documents//Harvard//Research//Greenwood//dotcom_v2.dta\")"
   ]
  },
  {
   "cell_type": "code",
   "execution_count": 25,
   "metadata": {},
   "outputs": [],
   "source": [
    "# df = fdata[(fdata['date'] > pd.to_datetime(\"1999-09-01\")) & (fdata['date'] < pd.to_datetime(\"2000-02-01\"))]"
   ]
  }
 ],
 "metadata": {
  "kernelspec": {
   "display_name": "Python 3",
   "language": "python",
   "name": "python3"
  },
  "language_info": {
   "codemirror_mode": {
    "name": "ipython",
    "version": 3
   },
   "file_extension": ".py",
   "mimetype": "text/x-python",
   "name": "python",
   "nbconvert_exporter": "python",
   "pygments_lexer": "ipython3",
   "version": "3.7.4"
  }
 },
 "nbformat": 4,
 "nbformat_minor": 2
}
