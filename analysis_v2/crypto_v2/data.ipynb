{
 "cells": [
  {
   "cell_type": "code",
   "execution_count": 12,
   "metadata": {},
   "outputs": [],
   "source": [
    "%run search_functions.ipynb"
   ]
  },
  {
   "cell_type": "code",
   "execution_count": 1,
   "metadata": {},
   "outputs": [],
   "source": [
    "import pandas as pd\n",
    "import pysentiment2.renault as ren\n",
    "import yfinance as yf"
   ]
  },
  {
   "cell_type": "code",
   "execution_count": 4,
   "metadata": {},
   "outputs": [],
   "source": [
    "# get BTC data\n",
    "btc_price = yf.Ticker(\"BTC-USD\").history(period=\"max\")[\"Close\"][:pd.to_datetime('2019-01-01')]\n",
    "btc_price_df = yf.Ticker(\"BTC-USD\").history(period=\"max\").reset_index()\n",
    "btc_price_df['close_return'] = get_pct_change(btc_price_df, 'Close')\n",
    "btc_price_df['vol_return'] = get_pct_change(btc_price_df, 'Volume')\n",
    "\n",
    "#get CRIX data \n",
    "PATH_crix = \"C://Users//jackl//OneDrive//Documents//Harvard//Research//Greenwood//crypto//crix.json\"\n",
    "crix = pd.read_json(PATH_crix)\n",
    "crix['close_return'] = get_pct_change(crix, 'price')\n",
    "crix.columns = ['Date', 'Close', 'close_return']\n",
    "crix['Date'] = pd.to_datetime(crix['Date'])\n",
    "crix_df = crix.set_index('Date')"
   ]
  },
  {
   "cell_type": "code",
   "execution_count": 5,
   "metadata": {},
   "outputs": [],
   "source": [
    "# get twitter data\n",
    "PATH_twitter = \"C://Users//jackl//OneDrive//Documents//Harvard//Research//Greenwood//crypto//crypto_master_tweets.xlsx\"\n",
    "twitter_data = pd.read_excel(PATH_twitter).sort_values('date')\n",
    "fdata_twitter = pd.DataFrame({'full_text': twitter_data['tweet_text'], \n",
    "                              'date': twitter_data['date'],\n",
    "                              'reactions': twitter_data['reactions']})\n",
    "fdata_twitter = get_flags(fdata_twitter)"
   ]
  },
  {
   "cell_type": "code",
   "execution_count": 6,
   "metadata": {},
   "outputs": [],
   "source": [
    "# append sentiment scores\n",
    "RN = ren.RN()\n",
    "sent_score_list = []\n",
    "for i in range(len(fdata_twitter)): \n",
    "    tokens = RN.tokenize(fdata_twitter.iloc[i]['full_text'])\n",
    "    sent_score_list.append(RN.get_score(tokens)['Polarity'])\n",
    "fdata_twitter['sent_score'] = sent_score_list"
   ]
  },
  {
   "cell_type": "code",
   "execution_count": 13,
   "metadata": {},
   "outputs": [],
   "source": [
    "#get regression data\n",
    "reg_data = get_reg_data(fdata_twitter, crix, 'W')\n",
    "reg_data.to_stata(\"C://Users//jackl//OneDrive//Documents//Harvard//Research//Greenwood//crypto_v2_crix.dta\")"
   ]
  },
  {
   "cell_type": "code",
   "execution_count": 20,
   "metadata": {},
   "outputs": [],
   "source": [
    "# Proquest data \n",
    "# data1 = pd.read_excel('C://Users//jackl//OneDrive//Documents//Harvard//Research//Greenwood//crypto//ProQuestDocuments-2020-10-04.xls')\n",
    "# data2 = pd.read_excel('C://Users//jackl//OneDrive//Documents//Harvard//Research//Greenwood//crypto//ProQuestDocuments-2020-10-04 (1).xls')\n",
    "\n",
    "# data = pd.concat([data1, data2], join='inner')\n",
    "# data['pubdate'] = pd.to_datetime(data['pubdate'])\n",
    "\n",
    "# start_date = pd.to_datetime(\"2015-01-01\")\n",
    "# data = data[data['pubdate'] > start_date]\n",
    "# data = data.sort_values(['pubdate']).reset_index(drop=True)\n",
    "# data['full_text'] = data['Title'].astype(str) + \" \" + data['Abstract'].astype(str)\n",
    "\n",
    "# fdata = pd.DataFrame({\"date\": data['pubdate'], \"full_text\": data['full_text']})\n",
    "\n",
    "# RN = ren.RN()\n",
    "# sent_score_list = []\n",
    "# for i in range(len(fdata)): \n",
    "#     tokens = RN.tokenize(fdata.iloc[i]['full_text'])\n",
    "#     sent_score_list.append(RN.get_score(tokens)['Polarity'])\n",
    "\n",
    "# fdata['sent_score'] = sent_score_list"
   ]
  }
 ],
 "metadata": {
  "kernelspec": {
   "display_name": "Python 3",
   "language": "python",
   "name": "python3"
  },
  "language_info": {
   "codemirror_mode": {
    "name": "ipython",
    "version": 3
   },
   "file_extension": ".py",
   "mimetype": "text/x-python",
   "name": "python",
   "nbconvert_exporter": "python",
   "pygments_lexer": "ipython3",
   "version": "3.7.4"
  }
 },
 "nbformat": 4,
 "nbformat_minor": 2
}
